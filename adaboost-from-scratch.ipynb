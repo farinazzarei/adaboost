{
 "cells": [
  {
   "cell_type": "code",
   "id": "initial_id",
   "metadata": {
    "collapsed": true,
    "ExecuteTime": {
     "end_time": "2025-07-21T07:17:27.129903Z",
     "start_time": "2025-07-21T07:17:27.090861Z"
    }
   },
   "source": [
    "from sklearn.datasets import load_breast_cancer\n",
    "from sklearn.model_selection import train_test_split\n",
    "from sklearn.preprocessing import StandardScaler\n",
    "from sklearn.tree import DecisionTreeClassifier\n",
    "import numpy as np\n",
    "from sklearn.metrics import accuracy_score, f1_score"
   ],
   "outputs": [],
   "execution_count": 164
  },
  {
   "metadata": {
    "ExecuteTime": {
     "end_time": "2025-07-21T07:17:28.610866Z",
     "start_time": "2025-07-21T07:17:28.525036Z"
    }
   },
   "cell_type": "code",
   "source": [
    "cancer = load_breast_cancer()\n",
    "data, target = cancer.data, cancer.target"
   ],
   "id": "64cd777f4a2d02aa",
   "outputs": [],
   "execution_count": 165
  },
  {
   "metadata": {
    "ExecuteTime": {
     "end_time": "2025-07-21T07:17:30.368593Z",
     "start_time": "2025-07-21T07:17:30.328406Z"
    }
   },
   "cell_type": "code",
   "source": [
    "X_train, X_test, y_train, y_test = train_test_split(data, target, test_size=0.2, random_state=42)\n",
    "\n",
    "print(f\"Shape of X_train: {X_train.shape}, y_train: {y_train.shape}\")\n",
    "print(f\"Shape of X_test: {X_test.shape}, y_test: {y_test.shape}\")\n",
    "\n",
    "scale = StandardScaler()\n",
    "X_train = scale.fit_transform(X_train)\n",
    "X_test = scale.transform(X_test)"
   ],
   "id": "95ec20ec8ee466c1",
   "outputs": [
    {
     "name": "stdout",
     "output_type": "stream",
     "text": [
      "Shape of X_train: (455, 30), y_train: (455,)\n",
      "Shape of X_test: (114, 30), y_test: (114,)\n"
     ]
    }
   ],
   "execution_count": 166
  },
  {
   "metadata": {
    "ExecuteTime": {
     "end_time": "2025-07-21T07:17:35.774137Z",
     "start_time": "2025-07-21T07:17:35.742375Z"
    }
   },
   "cell_type": "code",
   "source": [
    "class AdaBoost:\n",
    "    def __init__(self, M):\n",
    "        self.M = M\n",
    "        self.alphas = []\n",
    "        self.models = []\n",
    "\n",
    "    def fit(self, X, y):\n",
    "        w = np.full(X.shape[0], 1 / X.shape[0])\n",
    "        y = np.where(y == 0, -1, 1)\n",
    "        for m in range(self.M):\n",
    "            tree = DecisionTreeClassifier(max_depth=1)\n",
    "            tree.fit(X, y, sample_weight=w)\n",
    "            self.models.append(tree)\n",
    "            predictions = tree.predict(X)\n",
    "\n",
    "            miss_indexes = np.where(predictions != y)\n",
    "            eps = np.sum(w[miss_indexes]) / np.sum(w)\n",
    "            alpha = np.log((1 - eps) / (eps + 1e-10))\n",
    "            self.alphas.append(alpha)\n",
    "            w = w * np.exp(-self.alphas[-1] * y * predictions)\n",
    "            w = w / np.sum(w)\n",
    "\n",
    "    def predict(self, x):\n",
    "        final = np.zeros(x.shape[0])\n",
    "        for alpha, model in zip(self.alphas, self.models):\n",
    "            preds = model.predict(x)\n",
    "            final += alpha * preds\n",
    "\n",
    "        return np.where(final >= 0, 1, -1)\n"
   ],
   "id": "d167133978f9672c",
   "outputs": [],
   "execution_count": 167
  },
  {
   "metadata": {
    "ExecuteTime": {
     "end_time": "2025-07-21T07:20:05.429909Z",
     "start_time": "2025-07-21T07:17:55.298776Z"
    }
   },
   "cell_type": "code",
   "source": [
    "from sklearn.model_selection import cross_val_score, StratifiedKFold\n",
    "from sklearn.ensemble import AdaBoostClassifier\n",
    "scores=[]\n",
    "for i in range(1,101):\n",
    "    cv=StratifiedKFold(n_splits=5,shuffle=True,random_state=True)\n",
    "    ada = AdaBoostClassifier(n_estimators=i, random_state=0)\n",
    "    score=cross_val_score(ada,X_train,y_train,cv=cv,scoring='accuracy')\n",
    "    scores.append(score.mean())\n",
    "\n",
    "best_stimator=np.argmax(scores)"
   ],
   "id": "5f54d8aebe15f6bf",
   "outputs": [],
   "execution_count": 168
  },
  {
   "metadata": {
    "ExecuteTime": {
     "end_time": "2025-07-21T07:20:57.226027Z",
     "start_time": "2025-07-21T07:20:57.207727Z"
    }
   },
   "cell_type": "code",
   "source": "y_test = np.where(y_test == 0, -1, 1)",
   "id": "afba72c75f203e6c",
   "outputs": [],
   "execution_count": 169
  },
  {
   "metadata": {
    "ExecuteTime": {
     "end_time": "2025-07-21T07:20:58.998314Z",
     "start_time": "2025-07-21T07:20:58.539555Z"
    }
   },
   "cell_type": "code",
   "source": [
    "ada = AdaBoost(best_stimator)\n",
    "ada.fit(X_train, y_train)\n",
    "preds = ada.predict(X_test)\n",
    "\n",
    "print(f\"Sklearn Adaboost Accuracy: {accuracy_score(y_test, preds):.3f}\")\n",
    "print(f\"Sklearn Adaboost F1-Score: {f1_score(y_test, preds, average='weighted'):.3f}\")"
   ],
   "id": "2e13dc157abe3ee1",
   "outputs": [
    {
     "name": "stdout",
     "output_type": "stream",
     "text": [
      "Sklearn Adaboost Accuracy: 0.912\n",
      "Sklearn Adaboost F1-Score: 0.913\n"
     ]
    }
   ],
   "execution_count": 170
  },
  {
   "metadata": {
    "ExecuteTime": {
     "end_time": "2025-07-21T07:21:52.310841Z",
     "start_time": "2025-07-21T07:21:51.721808Z"
    }
   },
   "cell_type": "code",
   "source": [
    "adaboost = AdaBoostClassifier(n_estimators=best_stimator, random_state=0)\n",
    "adaboost.fit(X_train, y_train)\n",
    "prediction = ada.predict(X_test)\n",
    "\n",
    "print(f\"Sklearn Adaboost Accuracy: {accuracy_score(y_test, prediction):.3f}\")\n",
    "print(f\"Sklearn Adaboost F1-Score: {f1_score(y_test, prediction, average='weighted'):.3f}\")"
   ],
   "id": "d72364d64d5901fe",
   "outputs": [
    {
     "name": "stdout",
     "output_type": "stream",
     "text": [
      "Sklearn Adaboost Accuracy: 0.912\n",
      "Sklearn Adaboost F1-Score: 0.913\n"
     ]
    }
   ],
   "execution_count": 172
  },
  {
   "metadata": {},
   "cell_type": "code",
   "outputs": [],
   "execution_count": null,
   "source": "",
   "id": "ea8252e86c321882"
  }
 ],
 "metadata": {
  "kernelspec": {
   "display_name": "Python 3",
   "language": "python",
   "name": "python3"
  },
  "language_info": {
   "codemirror_mode": {
    "name": "ipython",
    "version": 2
   },
   "file_extension": ".py",
   "mimetype": "text/x-python",
   "name": "python",
   "nbconvert_exporter": "python",
   "pygments_lexer": "ipython2",
   "version": "2.7.6"
  }
 },
 "nbformat": 4,
 "nbformat_minor": 5
}
