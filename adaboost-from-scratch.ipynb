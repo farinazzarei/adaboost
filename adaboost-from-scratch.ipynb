{
 "cells": [
  {
   "cell_type": "code",
   "id": "initial_id",
   "metadata": {
    "collapsed": true,
    "ExecuteTime": {
     "end_time": "2025-07-24T08:34:34.452463Z",
     "start_time": "2025-07-24T08:34:34.406550Z"
    }
   },
   "source": [
    "from sklearn.datasets import load_breast_cancer\n",
    "from sklearn.model_selection import train_test_split\n",
    "from sklearn.preprocessing import StandardScaler\n",
    "from sklearn.tree import DecisionTreeClassifier\n",
    "import numpy as np\n",
    "import pandas as pd\n",
    "from sklearn.metrics import accuracy_score, f1_score\n",
    "from sklearn.model_selection import cross_val_score, StratifiedKFold\n",
    "from sklearn.ensemble import AdaBoostClassifier\n",
    "from xgboost import XGBClassifier"
   ],
   "outputs": [],
   "execution_count": 110
  },
  {
   "metadata": {
    "ExecuteTime": {
     "end_time": "2025-07-24T08:34:34.497278Z",
     "start_time": "2025-07-24T08:34:34.452463Z"
    }
   },
   "cell_type": "code",
   "source": [
    "cancer = load_breast_cancer()\n",
    "data, target = cancer.data, cancer.target"
   ],
   "id": "64cd777f4a2d02aa",
   "outputs": [],
   "execution_count": 111
  },
  {
   "metadata": {
    "ExecuteTime": {
     "end_time": "2025-07-24T08:34:34.527069Z",
     "start_time": "2025-07-24T08:34:34.497278Z"
    }
   },
   "cell_type": "code",
   "source": [
    "X_train, X_test, y_train, y_test = train_test_split(data, target, test_size=0.2, random_state=42)\n",
    "\n",
    "print(f\"Shape of X_train: {X_train.shape}, y_train: {y_train.shape}\")\n",
    "print(f\"Shape of X_test: {X_test.shape}, y_test: {y_test.shape}\")\n",
    "\n",
    "scale = StandardScaler()\n",
    "X_train = scale.fit_transform(X_train)\n",
    "X_test = scale.transform(X_test)"
   ],
   "id": "95ec20ec8ee466c1",
   "outputs": [
    {
     "name": "stdout",
     "output_type": "stream",
     "text": [
      "Shape of X_train: (455, 30), y_train: (455,)\n",
      "Shape of X_test: (114, 30), y_test: (114,)\n"
     ]
    }
   ],
   "execution_count": 112
  },
  {
   "metadata": {
    "ExecuteTime": {
     "end_time": "2025-07-24T08:34:34.558049Z",
     "start_time": "2025-07-24T08:34:34.531714Z"
    }
   },
   "cell_type": "code",
   "source": [
    "class AdaBoost:\n",
    "    def __init__(self, M):\n",
    "        self.M = M\n",
    "        self.alphas = []\n",
    "        self.models = []\n",
    "\n",
    "    def fit(self, X, y):\n",
    "        w = np.full(X.shape[0], 1 / X.shape[0])\n",
    "        y = np.where(y == 0, -1, 1)\n",
    "        for m in range(self.M):\n",
    "            tree = DecisionTreeClassifier(max_depth=1)\n",
    "            tree.fit(X, y, sample_weight=w)\n",
    "            self.models.append(tree)\n",
    "            predictions = tree.predict(X)\n",
    "\n",
    "            miss_indexes = np.where(predictions != y)\n",
    "            eps = np.sum(w[miss_indexes]) / np.sum(w)\n",
    "            alpha = np.log((1 - eps) / (eps + 1e-10))\n",
    "            self.alphas.append(alpha)\n",
    "            w = w * np.exp(-self.alphas[-1] * y * predictions)\n",
    "            w = w / np.sum(w)\n",
    "\n",
    "    def predict(self, x):\n",
    "        final = np.zeros(x.shape[0])\n",
    "        for alpha, model in zip(self.alphas, self.models):\n",
    "            preds = model.predict(x)\n",
    "            final += alpha * preds\n",
    "\n",
    "        return np.where(final >= 0, 1, -1)\n"
   ],
   "id": "d167133978f9672c",
   "outputs": [],
   "execution_count": 113
  },
  {
   "metadata": {
    "ExecuteTime": {
     "end_time": "2025-07-24T08:36:34.929621Z",
     "start_time": "2025-07-24T08:34:34.558049Z"
    }
   },
   "cell_type": "code",
   "source": [
    "scores = []\n",
    "for i in range(1, 101):\n",
    "    cv = StratifiedKFold(n_splits=5, shuffle=True, random_state=True)\n",
    "    ada = AdaBoostClassifier(n_estimators=i, random_state=0)\n",
    "    score = cross_val_score(ada, X_train, y_train, cv=cv, scoring='accuracy')\n",
    "    scores.append(score.mean())\n",
    "\n",
    "best_estimator = np.argmax(scores)"
   ],
   "id": "5f54d8aebe15f6bf",
   "outputs": [],
   "execution_count": 114
  },
  {
   "metadata": {
    "ExecuteTime": {
     "end_time": "2025-07-24T08:36:34.975359Z",
     "start_time": "2025-07-24T08:36:34.960880Z"
    }
   },
   "cell_type": "code",
   "source": "y_test = np.where(y_test == 0, -1, 1)",
   "id": "afba72c75f203e6c",
   "outputs": [],
   "execution_count": 115
  },
  {
   "metadata": {
    "ExecuteTime": {
     "end_time": "2025-07-24T08:36:35.627255Z",
     "start_time": "2025-07-24T08:36:34.990993Z"
    }
   },
   "cell_type": "code",
   "source": [
    "ada = AdaBoost(best_estimator)\n",
    "ada.fit(X_train, y_train)\n",
    "preds = ada.predict(X_test)\n",
    "\n",
    "print(f\"Sklearn Adaboost Accuracy: {accuracy_score(y_test, preds):.3f}\")\n",
    "print(f\"Sklearn Adaboost F1-Score: {f1_score(y_test, preds, average='weighted'):.3f}\")"
   ],
   "id": "2e13dc157abe3ee1",
   "outputs": [
    {
     "name": "stdout",
     "output_type": "stream",
     "text": [
      "Sklearn Adaboost Accuracy: 0.912\n",
      "Sklearn Adaboost F1-Score: 0.913\n"
     ]
    }
   ],
   "execution_count": 116
  },
  {
   "metadata": {
    "ExecuteTime": {
     "end_time": "2025-07-24T09:52:16.987671Z",
     "start_time": "2025-07-24T09:52:16.969247Z"
    }
   },
   "cell_type": "code",
   "source": [
    "from sklearn.metrics import classification_report\n",
    "\n",
    "\n",
    "def compare_models(model_name, data, target):\n",
    "    X_train, X_test, y_train, y_test = train_test_split(data, target, test_size=0.2, random_state=42)\n",
    "\n",
    "    scale = StandardScaler()\n",
    "    X_train_scale = scale.fit_transform(X_train)\n",
    "    X_test_scale = scale.transform(X_test)\n",
    "\n",
    "    print(f\"Shape of X_train: {X_train_scale.shape}, y_train: {y_train.shape}\")\n",
    "    print(f\"Shape of X_test: {X_test_scale.shape}, y_test: {y_test.shape}\")\n",
    "\n",
    "    adaboost = AdaBoostClassifier(n_estimators=best_estimator, random_state=0)\n",
    "    adaboost.fit(X_train_scale, y_train)\n",
    "\n",
    "    adaboost_prediction = adaboost.predict(X_test_scale)\n",
    "\n",
    "    print(f\"adaboost classification report for {model_name}\")\n",
    "    print(classification_report(y_test, adaboost_prediction))\n",
    "\n",
    "\n",
    "    xgb_model = XGBClassifier(eval_metric='logloss', random_state=42)\n",
    "    xgb_model.fit(X_train_scale, y_train)\n",
    "\n",
    "    xgb_predictions = xgb_model.predict(X_test_scale)\n",
    "\n",
    "    print(f\"xgboost classification report for {model_name}\")\n",
    "    print(classification_report(y_test, xgb_predictions))"
   ],
   "id": "d72364d64d5901fe",
   "outputs": [],
   "execution_count": 139
  },
  {
   "metadata": {
    "ExecuteTime": {
     "end_time": "2025-07-24T09:52:20.245551Z",
     "start_time": "2025-07-24T09:52:19.441984Z"
    }
   },
   "cell_type": "code",
   "source": [
    "# implement on balance dataset\n",
    "print(np.unique(cancer.target,return_counts=True))\n",
    "compare_models(\"breast cancer\", cancer.data, cancer.target)"
   ],
   "id": "113620b496541064",
   "outputs": [
    {
     "name": "stdout",
     "output_type": "stream",
     "text": [
      "(array([0, 1]), array([212, 357], dtype=int64))\n",
      "Shape of X_train: (455, 30), y_train: (455,)\n",
      "Shape of X_test: (114, 30), y_test: (114,)\n",
      "adaboost classification report for breast cancer\n",
      "              precision    recall  f1-score   support\n",
      "\n",
      "           0       0.98      0.95      0.96        43\n",
      "           1       0.97      0.99      0.98        71\n",
      "\n",
      "    accuracy                           0.97       114\n",
      "   macro avg       0.97      0.97      0.97       114\n",
      "weighted avg       0.97      0.97      0.97       114\n",
      "\n",
      "xgboost classification report for breast cancer\n",
      "              precision    recall  f1-score   support\n",
      "\n",
      "           0       0.95      0.93      0.94        43\n",
      "           1       0.96      0.97      0.97        71\n",
      "\n",
      "    accuracy                           0.96       114\n",
      "   macro avg       0.96      0.95      0.95       114\n",
      "weighted avg       0.96      0.96      0.96       114\n",
      "\n"
     ]
    }
   ],
   "execution_count": 140
  },
  {
   "metadata": {
    "ExecuteTime": {
     "end_time": "2025-07-24T09:54:21.403747Z",
     "start_time": "2025-07-24T09:54:20.343875Z"
    }
   },
   "cell_type": "code",
   "source": [
    "df = pd.read_csv(\"./assets/1.csv\")\n",
    "target = df[\"target\"]\n",
    "print(target.value_counts())\n",
    "data = df.drop(\"target\", axis=1)\n",
    "compare_models(\"first dataset\", data, target)"
   ],
   "id": "559f42545645afe3",
   "outputs": [
    {
     "name": "stdout",
     "output_type": "stream",
     "text": [
      "target\n",
      "0    499\n",
      "1    226\n",
      "Name: count, dtype: int64\n",
      "Shape of X_train: (580, 13), y_train: (580,)\n",
      "Shape of X_test: (145, 13), y_test: (145,)\n",
      "adaboost classification report for first dataset\n",
      "              precision    recall  f1-score   support\n",
      "\n",
      "           0       0.91      0.94      0.92        98\n",
      "           1       0.86      0.81      0.84        47\n",
      "\n",
      "    accuracy                           0.90       145\n",
      "   macro avg       0.89      0.87      0.88       145\n",
      "weighted avg       0.90      0.90      0.90       145\n",
      "\n",
      "xgboost classification report for first dataset\n",
      "              precision    recall  f1-score   support\n",
      "\n",
      "           0       0.99      1.00      0.99        98\n",
      "           1       1.00      0.98      0.99        47\n",
      "\n",
      "    accuracy                           0.99       145\n",
      "   macro avg       0.99      0.99      0.99       145\n",
      "weighted avg       0.99      0.99      0.99       145\n",
      "\n"
     ]
    }
   ],
   "execution_count": 141
  },
  {
   "metadata": {
    "ExecuteTime": {
     "end_time": "2025-07-24T09:55:39.696449Z",
     "start_time": "2025-07-24T09:55:39.193124Z"
    }
   },
   "cell_type": "code",
   "source": [
    "# implement oh imbalance data\n",
    "df = pd.read_csv(\"./assets/2.csv\")\n",
    "target = df[\"target\"]\n",
    "print(target.value_counts())\n",
    "data = df.drop(\"target\", axis=1)\n",
    "compare_models(\"first dataset\", data, target)"
   ],
   "id": "a8e63f2a14c9e86e",
   "outputs": [
    {
     "name": "stdout",
     "output_type": "stream",
     "text": [
      "target\n",
      "0    499\n",
      "1    126\n",
      "Name: count, dtype: int64\n",
      "Shape of X_train: (500, 13), y_train: (500,)\n",
      "Shape of X_test: (125, 13), y_test: (125,)\n",
      "adaboost classification report for first dataset\n",
      "              precision    recall  f1-score   support\n",
      "\n",
      "           0       0.89      0.97      0.93        96\n",
      "           1       0.86      0.62      0.72        29\n",
      "\n",
      "    accuracy                           0.89       125\n",
      "   macro avg       0.88      0.79      0.82       125\n",
      "weighted avg       0.89      0.89      0.88       125\n",
      "\n",
      "xgboost classification report for first dataset\n",
      "              precision    recall  f1-score   support\n",
      "\n",
      "           0       0.94      1.00      0.97        96\n",
      "           1       1.00      0.79      0.88        29\n",
      "\n",
      "    accuracy                           0.95       125\n",
      "   macro avg       0.97      0.90      0.93       125\n",
      "weighted avg       0.95      0.95      0.95       125\n",
      "\n"
     ]
    }
   ],
   "execution_count": 142
  },
  {
   "metadata": {
    "ExecuteTime": {
     "end_time": "2025-07-24T09:59:43.228130Z",
     "start_time": "2025-07-24T09:59:42.768583Z"
    }
   },
   "cell_type": "code",
   "source": [
    "# implement oh imbalance data\n",
    "df = pd.read_csv(\"./assets/3.csv\")\n",
    "target = df[\"target\"]\n",
    "print(target.value_counts())\n",
    "data = df.drop(\"target\", axis=1)\n",
    "compare_models(\"third dataset\", data, target)"
   ],
   "id": "2eb90ae925ac2a14",
   "outputs": [
    {
     "name": "stdout",
     "output_type": "stream",
     "text": [
      "target\n",
      "0    499\n",
      "1     26\n",
      "Name: count, dtype: int64\n",
      "Shape of X_train: (420, 13), y_train: (420,)\n",
      "Shape of X_test: (105, 13), y_test: (105,)\n",
      "adaboost classification report for third dataset\n",
      "              precision    recall  f1-score   support\n",
      "\n",
      "           0       0.99      0.98      0.99       102\n",
      "           1       0.50      0.67      0.57         3\n",
      "\n",
      "    accuracy                           0.97       105\n",
      "   macro avg       0.75      0.82      0.78       105\n",
      "weighted avg       0.98      0.97      0.97       105\n",
      "\n",
      "xgboost classification report for third dataset\n",
      "              precision    recall  f1-score   support\n",
      "\n",
      "           0       0.99      1.00      1.00       102\n",
      "           1       1.00      0.67      0.80         3\n",
      "\n",
      "    accuracy                           0.99       105\n",
      "   macro avg       1.00      0.83      0.90       105\n",
      "weighted avg       0.99      0.99      0.99       105\n",
      "\n"
     ]
    }
   ],
   "execution_count": 143
  }
 ],
 "metadata": {
  "kernelspec": {
   "display_name": "Python 3",
   "language": "python",
   "name": "python3"
  },
  "language_info": {
   "codemirror_mode": {
    "name": "ipython",
    "version": 2
   },
   "file_extension": ".py",
   "mimetype": "text/x-python",
   "name": "python",
   "nbconvert_exporter": "python",
   "pygments_lexer": "ipython2",
   "version": "2.7.6"
  }
 },
 "nbformat": 4,
 "nbformat_minor": 5
}
